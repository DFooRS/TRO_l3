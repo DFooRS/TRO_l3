{
 "cells": [
  {
   "cell_type": "markdown",
   "id": "0527c8c9",
   "metadata": {},
   "source": [
    "# Транспонирование матрицы"
   ]
  },
  {
   "cell_type": "markdown",
   "id": "380beafc",
   "metadata": {},
   "source": [
    "Свойство 1 дважды транспонированная матрица равна исходной матрице:\n",
    "\n",
    "$ (A^T)^T = A$"
   ]
  },
  {
   "cell_type": "code",
   "execution_count": 2,
   "id": "b95951df",
   "metadata": {},
   "outputs": [
    {
     "name": "stdout",
     "output_type": "stream",
     "text": [
      "[[4 2 7]\n",
      " [4 5 6]\n",
      " [1 1 1]]\n",
      "[[4 2 7]\n",
      " [4 5 6]\n",
      " [1 1 1]]\n"
     ]
    }
   ],
   "source": [
    "import numpy as np\n",
    "A = np.matrix('4 2 7; 4 5 6; 1 1 1')\n",
    "print(A)\n",
    "R = (A.T).T\n",
    "print(R)"
   ]
  },
  {
   "cell_type": "markdown",
   "id": "8fd78c34",
   "metadata": {},
   "source": [
    "Свойство 2. Транспонирование суммы матриц равно сумме транспонированных матриц:\n",
    "\n",
    "$ (A + B)^T = A^T + B^T $"
   ]
  },
  {
   "cell_type": "code",
   "execution_count": 3,
   "id": "d2c16a77",
   "metadata": {},
   "outputs": [
    {
     "name": "stdout",
     "output_type": "stream",
     "text": [
      "[[11  4  4]\n",
      " [10 12  4]\n",
      " [16 11  4]]\n",
      "[[11  4  4]\n",
      " [10 12  4]\n",
      " [16 11  4]]\n"
     ]
    }
   ],
   "source": [
    "B = np.matrix('7 8 9; 0 7 5; 3 3 3')\n",
    "L = (A + B).T\n",
    "R = A.T + B.T\n",
    "print(L)\n",
    "print(R)"
   ]
  },
  {
   "cell_type": "markdown",
   "id": "2c1b2b59",
   "metadata": {},
   "source": [
    "Свойство 3. Транспонирование произведения матриц равно произведению транспонированных\n",
    "матриц расставленных в обратном порядке:\n",
    "\n",
    "$ (AB)^T = B^T * A^T $"
   ]
  },
  {
   "cell_type": "code",
   "execution_count": 4,
   "id": "751127c2",
   "metadata": {},
   "outputs": [
    {
     "name": "stdout",
     "output_type": "stream",
     "text": [
      "[[49 46 10]\n",
      " [67 85 18]\n",
      " [67 79 17]]\n",
      "[[49 46 10]\n",
      " [67 85 18]\n",
      " [67 79 17]]\n"
     ]
    }
   ],
   "source": [
    "L = (A.dot(B)).T\n",
    "R = (B.T).dot(A.T)\n",
    "print(L)\n",
    "print(R)"
   ]
  },
  {
   "cell_type": "markdown",
   "id": "6ee1690d",
   "metadata": {},
   "source": [
    "Свойство 4. Транспонирование произведения матрицы на число равно произведению этого\n",
    "числа на транспонированную матрицу:\n",
    "\n",
    "$ (kA)^T = kA^T $\n"
   ]
  },
  {
   "cell_type": "code",
   "execution_count": 6,
   "id": "c3452465",
   "metadata": {},
   "outputs": [
    {
     "name": "stdout",
     "output_type": "stream",
     "text": [
      "[[28 28  7]\n",
      " [14 35  7]\n",
      " [49 42  7]]\n",
      "[[28 28  7]\n",
      " [14 35  7]\n",
      " [49 42  7]]\n"
     ]
    }
   ],
   "source": [
    "k = 7\n",
    "L = (k * A).T\n",
    "R = k * (A.T)\n",
    "print(L)\n",
    "print(R)"
   ]
  },
  {
   "cell_type": "markdown",
   "id": "52c9f506",
   "metadata": {},
   "source": [
    "Свойство 5. Определители исходной и транспонированной матрицы совпадают:\n",
    "\n",
    "$ |A| = |A^T |$"
   ]
  },
  {
   "cell_type": "code",
   "execution_count": 7,
   "id": "35ad9a25",
   "metadata": {},
   "outputs": [
    {
     "name": "stdout",
     "output_type": "stream",
     "text": [
      "-7\n",
      "-7\n"
     ]
    }
   ],
   "source": [
    "A_det = np.linalg.det(A)\n",
    "A_T_det = np.linalg.det(A.T)\n",
    "print(format(A_det, '.9g'))\n",
    "print(format(A_T_det, '.9g'))"
   ]
  },
  {
   "cell_type": "markdown",
   "id": "55f5a5d3",
   "metadata": {},
   "source": [
    "# Действия над матрицами.\n",
    "# Умножение матрицы на число"
   ]
  },
  {
   "cell_type": "markdown",
   "id": "3d813f89",
   "metadata": {},
   "source": [
    "Свойство 1. Произведение единицы и любой заданной матрицы равно заданной матрице:\n",
    "\n",
    "$ 1 * A = A$"
   ]
  },
  {
   "cell_type": "code",
   "execution_count": 8,
   "id": "a5062c9d",
   "metadata": {},
   "outputs": [
    {
     "name": "stdout",
     "output_type": "stream",
     "text": [
      "[[4 2 7]\n",
      " [4 5 6]\n",
      " [1 1 1]]\n",
      "[[4 2 7]\n",
      " [4 5 6]\n",
      " [1 1 1]]\n"
     ]
    }
   ],
   "source": [
    "print(A)\n",
    "L = 1 * A\n",
    "print(L)\n"
   ]
  },
  {
   "cell_type": "markdown",
   "id": "f203768d",
   "metadata": {},
   "source": [
    "Свойство 2. Произведение нуля и любой матрицы равно нулевой матрице, размерность которой\n",
    "равна исходной матрицы:\n",
    "\n",
    "$ 0 * A = Z $"
   ]
  },
  {
   "cell_type": "code",
   "execution_count": 9,
   "id": "ca98f546",
   "metadata": {},
   "outputs": [
    {
     "name": "stdout",
     "output_type": "stream",
     "text": [
      "[[4 2 7]\n",
      " [4 5 6]\n",
      " [1 1 1]]\n",
      "[[0 0 0]\n",
      " [0 0 0]\n",
      " [0 0 0]]\n"
     ]
    }
   ],
   "source": [
    "print(A)\n",
    "L = 0 * A\n",
    "print(L)"
   ]
  },
  {
   "cell_type": "markdown",
   "id": "f1bb6037",
   "metadata": {},
   "source": [
    "Свойство 3. Произведение матрицы на сумму чисел равно сумме произведений матрицы на\n",
    "каждое из этих чисел:\n",
    "\n",
    "$ (a + b) * A = a * A + b * A $"
   ]
  },
  {
   "cell_type": "code",
   "execution_count": 10,
   "id": "f76739c4",
   "metadata": {},
   "outputs": [
    {
     "name": "stdout",
     "output_type": "stream",
     "text": [
      "[[4 2 7]\n",
      " [4 5 6]\n",
      " [1 1 1]]\n",
      "[[560 280 980]\n",
      " [560 700 840]\n",
      " [140 140 140]]\n",
      "[[560 280 980]\n",
      " [560 700 840]\n",
      " [140 140 140]]\n"
     ]
    }
   ],
   "source": [
    "print(A)\n",
    "q = 137\n",
    "p = 3\n",
    "L = (p + q) * A\n",
    "R = p * A + q * A\n",
    "print(L)\n",
    "print(R)"
   ]
  },
  {
   "cell_type": "markdown",
   "id": "b4b250d6",
   "metadata": {},
   "source": [
    "Свойство 4. Произведение матрицы на произведение двух чисел равно произведению второго\n",
    "числа и заданной матрицы, умноженному на первое число:\n",
    "\n",
    "$ (a * b) * A = a * (b * A) $"
   ]
  },
  {
   "cell_type": "code",
   "execution_count": 11,
   "id": "fc76f55e",
   "metadata": {},
   "outputs": [
    {
     "name": "stdout",
     "output_type": "stream",
     "text": [
      "[[352 176 616]\n",
      " [352 440 528]\n",
      " [ 88  88  88]]\n",
      "[[352 176 616]\n",
      " [352 440 528]\n",
      " [ 88  88  88]]\n"
     ]
    }
   ],
   "source": [
    "q = 4\n",
    "p = 22\n",
    "L = (p * q) * A\n",
    "R = p * (q * A)\n",
    "print(L)\n",
    "print(R)"
   ]
  },
  {
   "cell_type": "markdown",
   "id": "259185e0",
   "metadata": {},
   "source": [
    "Свойство 5. Произведение суммы матриц на число равно сумме произведений этих матриц на\n",
    "заданное число:\n",
    "\n",
    "$ k * (A + B = k * A + k * B $"
   ]
  },
  {
   "cell_type": "code",
   "execution_count": 12,
   "id": "326336e5",
   "metadata": {},
   "outputs": [
    {
     "name": "stdout",
     "output_type": "stream",
     "text": [
      "[[ 77  70 112]\n",
      " [ 28  84  77]\n",
      " [ 28  28  28]]\n",
      "[[ 77  70 112]\n",
      " [ 28  84  77]\n",
      " [ 28  28  28]]\n"
     ]
    }
   ],
   "source": [
    "k = 7\n",
    "L = k * (A + B)\n",
    "R = k * A + k * B\n",
    "print(L)\n",
    "print(R)"
   ]
  },
  {
   "cell_type": "markdown",
   "id": "fd4394c3",
   "metadata": {},
   "source": [
    "# Сложение матриц\n",
    "\n",
    "Складывать можно только матрицы одинаковой размерности — то есть матрицы, у которых\n",
    "совпадает количество столбцов и строк."
   ]
  },
  {
   "cell_type": "markdown",
   "id": "14ee5eb3",
   "metadata": {},
   "source": [
    "Свойство 1. Коммутативность сложения. От перестановки матриц их сумма не изменяется:\n",
    "\n",
    "$ A + B = B + A $"
   ]
  },
  {
   "cell_type": "code",
   "execution_count": 13,
   "id": "4b84989d",
   "metadata": {},
   "outputs": [
    {
     "name": "stdout",
     "output_type": "stream",
     "text": [
      "[[11 10 16]\n",
      " [ 4 12 11]\n",
      " [ 4  4  4]]\n",
      "[[11 10 16]\n",
      " [ 4 12 11]\n",
      " [ 4  4  4]]\n"
     ]
    }
   ],
   "source": [
    "L = A + B\n",
    "R = B + A\n",
    "print(L)\n",
    "print(R)"
   ]
  },
  {
   "cell_type": "markdown",
   "id": "33273789",
   "metadata": {},
   "source": [
    "Свойство 2. Ассоциативность сложения. Результат сложения трех и более матриц не зависит от\n",
    "порядка, в котором эта операция будет выполняться:\n",
    "\n",
    "$ A + (B + C) = (A + B) + C $ "
   ]
  },
  {
   "cell_type": "code",
   "execution_count": 14,
   "id": "6383a0a5",
   "metadata": {},
   "outputs": [
    {
     "name": "stdout",
     "output_type": "stream",
     "text": [
      "[[ 44  32  27]\n",
      " [ 48  67  77]\n",
      " [ 81 103  92]]\n",
      "[[ 44  32  27]\n",
      " [ 48  67  77]\n",
      " [ 81 103  92]]\n"
     ]
    }
   ],
   "source": [
    "C = np.matrix('33 22 11; 44 55 66; 77 99 88')\n",
    "R = (A + B) + C\n",
    "L = A + (B + C)\n",
    "print(R)\n",
    "print(L)"
   ]
  },
  {
   "cell_type": "markdown",
   "id": "71fd11ba",
   "metadata": {},
   "source": [
    "Свойство 3. Для любой матрицы существует противоположная ей , такая, что их сумма является\n",
    "нулевой матрицей :\n",
    "\n",
    "$ A + (-A) = Z $"
   ]
  },
  {
   "cell_type": "code",
   "execution_count": 15,
   "id": "7134a055",
   "metadata": {},
   "outputs": [
    {
     "name": "stdout",
     "output_type": "stream",
     "text": [
      "[[0 0 0]\n",
      " [0 0 0]\n",
      " [0 0 0]]\n"
     ]
    }
   ],
   "source": [
    "L = A + (-1)*A\n",
    "print(L)"
   ]
  },
  {
   "cell_type": "markdown",
   "id": "4b4a9525",
   "metadata": {},
   "source": [
    "# Умножение матриц\n",
    "\n",
    "Умножать можно только матрицы, отвечающие следующему требованию: количество столбцов\n",
    "первой матрицы должно быть равно числу строк второй матрицы."
   ]
  },
  {
   "cell_type": "markdown",
   "id": "80e5229a",
   "metadata": {},
   "source": [
    "Свойство 1. Ассоциативность умножения. Результат умножения матриц не зависит от порядка, в\n",
    "котором будет выполняться эта операция:\n",
    "\n",
    "$ A * (B * C) = (A * B) * C $"
   ]
  },
  {
   "cell_type": "code",
   "execution_count": 17,
   "id": "a6043a27",
   "metadata": {},
   "outputs": [
    {
     "name": "stdout",
     "output_type": "stream",
     "text": [
      "[[ 4202  4103  1628]\n",
      " [11099 10802  4268]\n",
      " [17996 17501  6908]]\n",
      "[[ 4202  4103  1628]\n",
      " [11099 10802  4268]\n",
      " [17996 17501  6908]]\n"
     ]
    }
   ],
   "source": [
    "A = np.matrix('1 2 3; 4 5 6; 7 8 9')\n",
    "B = np.matrix('5 2 4; 7 4 7; 2 2 2')\n",
    "C = np.matrix('66 55 44; 11 22 33; 99 99 0')\n",
    "L = A.dot(B.dot(C))\n",
    "R = (A.dot(B)).dot(C)\n",
    "print(L)\n",
    "print(R)"
   ]
  },
  {
   "cell_type": "markdown",
   "id": "8599e764",
   "metadata": {},
   "source": [
    "Свойство 2. Дистрибутивность умножения. Произведение матрицы на сумму матриц равно\n",
    "сумме произведений матриц:\n",
    "\n",
    "$ A * (B + C) = A * B + A * C $"
   ]
  },
  {
   "cell_type": "code",
   "execution_count": 19,
   "id": "61699688",
   "metadata": {},
   "outputs": [
    {
     "name": "stdout",
     "output_type": "stream",
     "text": [
      "[[ 410  412  134]\n",
      " [ 980  964  404]\n",
      " [1550 1516  674]]\n",
      "[[ 410  412  134]\n",
      " [ 980  964  404]\n",
      " [1550 1516  674]]\n"
     ]
    }
   ],
   "source": [
    "L = A.dot(B + C)\n",
    "R = A.dot(B) + A.dot(C)\n",
    "print(L)\n",
    "print(R)"
   ]
  },
  {
   "cell_type": "markdown",
   "id": "44e349f3",
   "metadata": {},
   "source": [
    "Свойство 3. Умножение матриц в общем виде не коммутативно. Это означает, что для матриц не\n",
    "выполняется правило независимости произведения от перестановки множителей:\n",
    "    \n",
    "$ A * B ≠ B * A $"
   ]
  },
  {
   "cell_type": "code",
   "execution_count": 21,
   "id": "98b55d80",
   "metadata": {},
   "outputs": [
    {
     "name": "stdout",
     "output_type": "stream",
     "text": [
      "[[ 25  16  24]\n",
      " [ 67  40  63]\n",
      " [109  64 102]]\n",
      "[[ 41  52  63]\n",
      " [ 72  90 108]\n",
      " [ 24  30  36]]\n"
     ]
    }
   ],
   "source": [
    "L = A.dot(B)\n",
    "R = B.dot(A)\n",
    "print(L)\n",
    "print(R)"
   ]
  },
  {
   "cell_type": "markdown",
   "id": "d1cbe5dd",
   "metadata": {},
   "source": [
    "Свойство 4. Произведение заданной матрицы на единичную равно исходной матрице:\n",
    "\n",
    "$ E * A = A * E = A $"
   ]
  },
  {
   "cell_type": "code",
   "execution_count": 23,
   "id": "61fd4e3a",
   "metadata": {},
   "outputs": [
    {
     "name": "stdout",
     "output_type": "stream",
     "text": [
      "[[1 2]\n",
      " [3 4]]\n",
      "[[1 2]\n",
      " [3 4]]\n"
     ]
    }
   ],
   "source": [
    "A = np.matrix('1 2; 3 4')\n",
    "E = np.matrix('1 0; 0 1')\n",
    "L = E.dot(A)\n",
    "R = A.dot(E)\n",
    "print(L)\n",
    "print(R)"
   ]
  },
  {
   "cell_type": "markdown",
   "id": "905cd00b",
   "metadata": {},
   "source": [
    "Свойство 5. Произведение заданной матрицы на нулевую матрицу равно нулевой матрице:\n",
    "\n",
    "$ Z * A = A * Z = Z$"
   ]
  },
  {
   "cell_type": "code",
   "execution_count": 25,
   "id": "ce02aa25",
   "metadata": {},
   "outputs": [
    {
     "name": "stdout",
     "output_type": "stream",
     "text": [
      "[[0 0]\n",
      " [0 0]]\n",
      "[[0 0]\n",
      " [0 0]]\n"
     ]
    }
   ],
   "source": [
    "Z = np.matrix('0 0; 0 0')\n",
    "L = Z.dot(A)\n",
    "R = A.dot(Z)\n",
    "print(L)\n",
    "print(R)"
   ]
  },
  {
   "cell_type": "markdown",
   "id": "bb30f1fb",
   "metadata": {},
   "source": [
    "# Определитель матрицы\n",
    "\n",
    "Определитель матрицы размера (n-го порядка) является одной из ее численных характеристик.\n",
    "Определитель матрицы A обозначается как |A| или det(A), его также называют детерминантом."
   ]
  },
  {
   "cell_type": "markdown",
   "id": "d3d7e341",
   "metadata": {},
   "source": [
    "Свойство 1. Определитель матрицы остается неизменным при ее транспонировании:\n",
    "\n",
    "$ det(A) = det(A^T) $"
   ]
  },
  {
   "cell_type": "code",
   "execution_count": 28,
   "id": "2a3c3e65",
   "metadata": {},
   "outputs": [
    {
     "name": "stdout",
     "output_type": "stream",
     "text": [
      "-2.0\n",
      "-2.0\n"
     ]
    }
   ],
   "source": [
    "det_A = round(np.linalg.det(A), 3)\n",
    "det_A_t = round(np.linalg.det(A.T), 3)\n",
    "print(det_A)\n",
    "print(det_A_t)"
   ]
  },
  {
   "cell_type": "markdown",
   "id": "a4656724",
   "metadata": {},
   "source": [
    "Свойство 2. Если у матрицы есть строка или столбец, состоящие из нулей, то определитель\n",
    "такой матрицы равен нулю:"
   ]
  },
  {
   "cell_type": "code",
   "execution_count": 29,
   "id": "cc5a4f9c",
   "metadata": {},
   "outputs": [
    {
     "name": "stdout",
     "output_type": "stream",
     "text": [
      "[[ 5  3  1]\n",
      " [ 0  0  0]\n",
      " [55 28  9]]\n"
     ]
    },
    {
     "data": {
      "text/plain": [
       "0.0"
      ]
     },
     "execution_count": 29,
     "metadata": {},
     "output_type": "execute_result"
    }
   ],
   "source": [
    "A = np.matrix('5 3 1; 0 0 0; 55 28 9')\n",
    "print(A)\n",
    "np.linalg.det(A)"
   ]
  },
  {
   "cell_type": "markdown",
   "id": "321bec3d",
   "metadata": {},
   "source": [
    "Свойство 3. При перестановке строк матрицы знак ее определителя меняется на\n",
    "противоположный:\n",
    "    \n",
    "$ det(A) = -det(A') $"
   ]
  },
  {
   "cell_type": "code",
   "execution_count": 36,
   "id": "c09b25ec",
   "metadata": {},
   "outputs": [
    {
     "name": "stdout",
     "output_type": "stream",
     "text": [
      "[[11  2  8]\n",
      " [44  3 66]\n",
      " [77  4 99]]\n",
      "[[44  3 66]\n",
      " [11  2  8]\n",
      " [77  4 99]]\n"
     ]
    }
   ],
   "source": [
    "A = np.matrix('11 2 8; 44 3 66; 77 4 99')\n",
    "print(A)\n",
    "B = np.matrix('44 3 66; 11 2 8; 77 4 99')\n",
    "print(B)"
   ]
  },
  {
   "cell_type": "code",
   "execution_count": 38,
   "id": "b3566645",
   "metadata": {},
   "outputs": [
    {
     "data": {
      "text/plain": [
       "1375.0"
      ]
     },
     "execution_count": 38,
     "metadata": {},
     "output_type": "execute_result"
    }
   ],
   "source": [
    "round(np.linalg.det(A), 3)"
   ]
  },
  {
   "cell_type": "code",
   "execution_count": 39,
   "id": "315e7e26",
   "metadata": {},
   "outputs": [
    {
     "data": {
      "text/plain": [
       "-1375.0"
      ]
     },
     "execution_count": 39,
     "metadata": {},
     "output_type": "execute_result"
    }
   ],
   "source": [
    "round(np.linalg.det(B), 3)"
   ]
  },
  {
   "cell_type": "markdown",
   "id": "a90ed089",
   "metadata": {},
   "source": [
    "Свойство 4. Если у матрицы есть две одинаковые строки, то ее определитель равен нулю:"
   ]
  },
  {
   "cell_type": "code",
   "execution_count": 40,
   "id": "f0f675c5",
   "metadata": {},
   "outputs": [
    {
     "name": "stdout",
     "output_type": "stream",
     "text": [
      "[[11  2  8]\n",
      " [44  3 66]\n",
      " [11  2  8]]\n"
     ]
    },
    {
     "data": {
      "text/plain": [
       "0.0"
      ]
     },
     "execution_count": 40,
     "metadata": {},
     "output_type": "execute_result"
    }
   ],
   "source": [
    "A = np.matrix('11 2 8; 44 3 66; 11 2 8')\n",
    "print(A)\n",
    "np.linalg.det(A)"
   ]
  },
  {
   "cell_type": "markdown",
   "id": "412d71ea",
   "metadata": {},
   "source": [
    "Свойство 5. Если все элементы строки или столбца матрицы умножить на какое-то число, то и\n",
    "определитель будет умножен на это число:"
   ]
  },
  {
   "cell_type": "code",
   "execution_count": 47,
   "id": "505c9579",
   "metadata": {},
   "outputs": [
    {
     "data": {
      "text/plain": [
       "1110.0"
      ]
     },
     "execution_count": 47,
     "metadata": {},
     "output_type": "execute_result"
    }
   ],
   "source": [
    "A = np.matrix('1 5 8; 4 3 26; 11 2 4')\n",
    "np.linalg.det(A)"
   ]
  },
  {
   "cell_type": "code",
   "execution_count": 49,
   "id": "8f6a99a6",
   "metadata": {},
   "outputs": [
    {
     "data": {
      "text/plain": [
       "3330.000000000004"
      ]
     },
     "execution_count": 49,
     "metadata": {},
     "output_type": "execute_result"
    }
   ],
   "source": [
    "B = A.copy()\n",
    "k = 3\n",
    "B[2, :] = k * B[2, :]\n",
    "np.linalg.det(B)"
   ]
  },
  {
   "cell_type": "markdown",
   "id": "252862f1",
   "metadata": {},
   "source": [
    "Свойство 6. Если к элементам одной строки прибавить элементы другой строки, умноженные на\n",
    "одно и тоже число, то определитель матрицы не изменится:"
   ]
  },
  {
   "cell_type": "code",
   "execution_count": 50,
   "id": "1b4de03e",
   "metadata": {},
   "outputs": [
    {
     "name": "stdout",
     "output_type": "stream",
     "text": [
      "[[ 1  5  8]\n",
      " [ 4  3 26]\n",
      " [11  2  4]]\n",
      "[[ 1  5  8]\n",
      " [ 7 18 50]\n",
      " [11  2  4]]\n"
     ]
    }
   ],
   "source": [
    "B = A.copy()\n",
    "B[1, :] = B[1, :] + k * B[0, :]\n",
    "print(A)\n",
    "print(B)"
   ]
  },
  {
   "cell_type": "code",
   "execution_count": 51,
   "id": "c5640011",
   "metadata": {},
   "outputs": [
    {
     "data": {
      "text/plain": [
       "1110.0"
      ]
     },
     "execution_count": 51,
     "metadata": {},
     "output_type": "execute_result"
    }
   ],
   "source": [
    "np.linalg.det(A)"
   ]
  },
  {
   "cell_type": "code",
   "execution_count": 52,
   "id": "54298505",
   "metadata": {},
   "outputs": [
    {
     "data": {
      "text/plain": [
       "1110.0"
      ]
     },
     "execution_count": 52,
     "metadata": {},
     "output_type": "execute_result"
    }
   ],
   "source": [
    "np.linalg.det(B)"
   ]
  },
  {
   "cell_type": "markdown",
   "id": "22c470f3",
   "metadata": {},
   "source": [
    "Свойство 7. Если строка или столбец матрицы является линейной комбинацией других строк\n",
    "(столбцов), то определитель такой матрицы равен нулю:\n"
   ]
  },
  {
   "cell_type": "code",
   "execution_count": 56,
   "id": "8ae3583a",
   "metadata": {},
   "outputs": [
    {
     "data": {
      "text/plain": [
       "0.0"
      ]
     },
     "execution_count": 56,
     "metadata": {},
     "output_type": "execute_result"
    }
   ],
   "source": [
    "A = np.matrix('3 4 5; 6 5 1; -3 -1 -4')\n",
    "k = 2\n",
    "A[1, :] = A[0, :] + k * A[2, :]\n",
    "round(np.linalg.det(A), 3)"
   ]
  },
  {
   "cell_type": "markdown",
   "id": "1edbb007",
   "metadata": {},
   "source": [
    "Свойство 8. Если матрица содержит пропорциональные строки, то ее определитель равен нулю:"
   ]
  },
  {
   "cell_type": "code",
   "execution_count": 58,
   "id": "8613cf30",
   "metadata": {},
   "outputs": [
    {
     "name": "stdout",
     "output_type": "stream",
     "text": [
      "[[ 3  4  5]\n",
      " [ 6  8 10]\n",
      " [-3 -1 -4]]\n"
     ]
    },
    {
     "data": {
      "text/plain": [
       "0.0"
      ]
     },
     "execution_count": 58,
     "metadata": {},
     "output_type": "execute_result"
    }
   ],
   "source": [
    "print(A)\n",
    "A[1, :] = k * A[0, :]\n",
    "round(np.linalg.det(A), 3)"
   ]
  },
  {
   "cell_type": "markdown",
   "id": "55a64d50",
   "metadata": {},
   "source": [
    "# Обратная матрица\n",
    "\n",
    "Обратной матрицей матрицы называют матрицу, удовлетворяющую следующему\n",
    "равенству:\n",
    "\n",
    "$ A * A^-1 = A^-1 * A = E $"
   ]
  },
  {
   "cell_type": "markdown",
   "id": "d2b952a8",
   "metadata": {},
   "source": [
    "Свойство 1. Обратная матрица обратной матрицы есть исходная матрица:\n",
    "\n",
    "$ (A^-1)^-1 = A $"
   ]
  },
  {
   "cell_type": "code",
   "execution_count": 60,
   "id": "2bddae22",
   "metadata": {},
   "outputs": [
    {
     "name": "stdout",
     "output_type": "stream",
     "text": [
      "[[2 2]\n",
      " [1 3]]\n",
      "[[2. 2.]\n",
      " [1. 3.]]\n"
     ]
    }
   ],
   "source": [
    "A = np.matrix('2 2; 1 3')\n",
    "A_inv = np.linalg.inv(A)\n",
    "A_inv_inv = np.linalg.inv(A_inv)\n",
    "print(A)\n",
    "print(A_inv_inv)"
   ]
  },
  {
   "cell_type": "markdown",
   "id": "6725c518",
   "metadata": {},
   "source": [
    "Свойство 2. Обратная матрица транспонированной матрицы равна транспонированной матрице\n",
    "от обратной матрицы:\n",
    "\n",
    "$ (A^T)^-1 = (A^-1)^T $"
   ]
  },
  {
   "cell_type": "code",
   "execution_count": 61,
   "id": "4bdc1223",
   "metadata": {},
   "outputs": [
    {
     "name": "stdout",
     "output_type": "stream",
     "text": [
      "[[ 0.75 -0.25]\n",
      " [-0.5   0.5 ]]\n",
      "[[ 0.75 -0.25]\n",
      " [-0.5   0.5 ]]\n"
     ]
    }
   ],
   "source": [
    "L = np.linalg.inv(A.T)\n",
    "R = (np.linalg.inv(A)).T\n",
    "print(L)\n",
    "print(R)"
   ]
  },
  {
   "cell_type": "markdown",
   "id": "467b5f04",
   "metadata": {},
   "source": [
    "Свойство 3. Обратная матрица произведения матриц равна произведению обратных матриц:\n",
    "\n",
    "$ (A1 * A2)^-1 = A2^-1 * A1 ^-1 $"
   ]
  },
  {
   "cell_type": "code",
   "execution_count": 63,
   "id": "059f6970",
   "metadata": {},
   "outputs": [
    {
     "name": "stdout",
     "output_type": "stream",
     "text": [
      "[[ 0.06979167 -0.04791667]\n",
      " [-0.01770833  0.02708333]]\n",
      "[[ 0.06979167 -0.04791667]\n",
      " [-0.01770833  0.02708333]]\n"
     ]
    }
   ],
   "source": [
    "A = np.matrix('2 2; 1 3')\n",
    "B = np.matrix('11 1; 2 22')\n",
    "L = np.linalg.inv(A.dot(B))\n",
    "R = np.linalg.inv(B).dot(np.linalg.inv(A))\n",
    "print(L)\n",
    "print(R)"
   ]
  },
  {
   "cell_type": "markdown",
   "id": "916dc387",
   "metadata": {},
   "source": [
    "# Ранг матрицы\n",
    "\n",
    "Рангом называют\n",
    "максимальное число линейно независимых строк (столбцов) матрицы. Линейная независимость\n",
    "означает, что строки (столбцы) не могут быть линейно выражены через другие строки (столбцы).\n",
    "Ранг матрицы можно найти через ее миноры, он равен наибольшему порядку минора, который не\n",
    "равен нулю. Существование ранга у матрицы не зависит от того квадратная она или нет."
   ]
  },
  {
   "cell_type": "code",
   "execution_count": 73,
   "id": "ae07c6c5",
   "metadata": {},
   "outputs": [
    {
     "name": "stdout",
     "output_type": "stream",
     "text": [
      "[[  0   0]\n",
      " [  1   3]\n",
      " [  5  -1]\n",
      " [-11   1]]\n",
      "2\n"
     ]
    }
   ],
   "source": [
    "m = np.matrix('0 0; 1 3; 5 -1; -11 1')\n",
    "print(m)\n",
    "rank = np.linalg.matrix_rank(m)\n",
    "print(rank)"
   ]
  },
  {
   "cell_type": "code",
   "execution_count": null,
   "id": "3a9c07f1",
   "metadata": {},
   "outputs": [],
   "source": []
  },
  {
   "cell_type": "code",
   "execution_count": null,
   "id": "0bac23d5",
   "metadata": {},
   "outputs": [],
   "source": []
  }
 ],
 "metadata": {
  "kernelspec": {
   "display_name": "Python 3 (ipykernel)",
   "language": "python",
   "name": "python3"
  },
  "language_info": {
   "codemirror_mode": {
    "name": "ipython",
    "version": 3
   },
   "file_extension": ".py",
   "mimetype": "text/x-python",
   "name": "python",
   "nbconvert_exporter": "python",
   "pygments_lexer": "ipython3",
   "version": "3.9.13"
  }
 },
 "nbformat": 4,
 "nbformat_minor": 5
}
